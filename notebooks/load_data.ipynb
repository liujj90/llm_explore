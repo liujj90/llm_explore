{
 "cells": [
  {
   "cell_type": "code",
   "execution_count": 2,
   "metadata": {},
   "outputs": [],
   "source": [
    "import csv, sqlite3\n",
    "import pandas as pd"
   ]
  },
  {
   "cell_type": "code",
   "execution_count": 11,
   "metadata": {},
   "outputs": [
    {
     "data": {
      "text/plain": [
       "197107"
      ]
     },
     "execution_count": 11,
     "metadata": {},
     "output_type": "execute_result"
    }
   ],
   "source": [
    "# create connection and cursor\n",
    "con = sqlite3.connect(r\"F:\\Shared\\Me\\coding\\LLM\\db\\sb_sftree.db\")#\"sqlite:///db/sb.db\")\n",
    "cur = con.cursor()\n",
    "# load sftrees data\n",
    "df = pd.read_csv('./data/Street_Tree_List.csv')\n",
    "df.to_sql('sf_trees', con, if_exists='append', index = False)"
   ]
  },
  {
   "cell_type": "code",
   "execution_count": 12,
   "metadata": {},
   "outputs": [
    {
     "data": {
      "text/plain": [
       "Index(['TreeID', 'qLegalStatus', 'qSpecies', 'qAddress', 'SiteOrder',\n",
       "       'qSiteInfo', 'PlantType', 'qCaretaker', 'qCareAssistant', 'PlantDate',\n",
       "       'DBH', 'PlotSize', 'PermitNotes', 'XCoord', 'YCoord', 'Latitude',\n",
       "       'Longitude', 'Location', 'Fire Prevention Districts',\n",
       "       'Police Districts', 'Supervisor Districts', 'Zip Codes',\n",
       "       'Neighborhoods (old)', 'Analysis Neighborhoods'],\n",
       "      dtype='object')"
      ]
     },
     "execution_count": 12,
     "metadata": {},
     "output_type": "execute_result"
    }
   ],
   "source": [
    "df.columns"
   ]
  },
  {
   "cell_type": "code",
   "execution_count": 7,
   "metadata": {},
   "outputs": [],
   "source": [
    "# load police_dept data\n",
    "df = pd.read_csv('./data/Police_Department_Incident_Reports__2018_to_Present.csv')"
   ]
  },
  {
   "cell_type": "code",
   "execution_count": 9,
   "metadata": {},
   "outputs": [
    {
     "data": {
      "text/plain": [
       "(726142, 35)"
      ]
     },
     "execution_count": 9,
     "metadata": {},
     "output_type": "execute_result"
    }
   ],
   "source": [
    "df.shape"
   ]
  },
  {
   "cell_type": "code",
   "execution_count": 10,
   "metadata": {},
   "outputs": [
    {
     "data": {
      "text/plain": [
       "726142"
      ]
     },
     "execution_count": 10,
     "metadata": {},
     "output_type": "execute_result"
    }
   ],
   "source": [
    "df.to_sql('sf_police_reports', con, if_exists='append', index = False)"
   ]
  },
  {
   "cell_type": "code",
   "execution_count": null,
   "metadata": {},
   "outputs": [],
   "source": []
  }
 ],
 "metadata": {
  "kernelspec": {
   "display_name": "Python (llm_env)",
   "language": "python",
   "name": "llm_env"
  },
  "language_info": {
   "codemirror_mode": {
    "name": "ipython",
    "version": 3
   },
   "file_extension": ".py",
   "mimetype": "text/x-python",
   "name": "python",
   "nbconvert_exporter": "python",
   "pygments_lexer": "ipython3",
   "version": "3.10.2"
  },
  "orig_nbformat": 4
 },
 "nbformat": 4,
 "nbformat_minor": 2
}
