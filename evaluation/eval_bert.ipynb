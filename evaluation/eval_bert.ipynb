{
 "cells": [
  {
   "attachments": {},
   "cell_type": "markdown",
   "metadata": {},
   "source": [
    "## Train a BERT-based model to label semantic equivalence"
   ]
  },
  {
   "attachments": {},
   "cell_type": "markdown",
   "metadata": {},
   "source": [
    "1. Finetune BERT based on GLOVE dataset\n",
    "2. BERT -> dropout -> dense output"
   ]
  },
  {
   "cell_type": "code",
   "execution_count": 1,
   "metadata": {},
   "outputs": [
    {
     "name": "stderr",
     "output_type": "stream",
     "text": [
      "c:\\Users\\liujj\\.conda\\envs\\llm_env\\Lib\\site-packages\\tqdm\\auto.py:21: TqdmWarning: IProgress not found. Please update jupyter and ipywidgets. See https://ipywidgets.readthedocs.io/en/stable/user_install.html\n",
      "  from .autonotebook import tqdm as notebook_tqdm\n"
     ]
    }
   ],
   "source": [
    "# Torch 2.0.1\n",
    "import torch\n",
    "import numpy as np\n",
    "from  transformers import BertModel, AutoModelForMaskedLM, BertTokenizer\n",
    "from torch.utils.data import DataLoader\n",
    "from torch.utils.data import Dataset\n",
    "from datasets import load_dataset\n",
    "import torch.nn as nn\n",
    "import torch.optim as optim\n",
    "from tqdm import tqdm"
   ]
  },
  {
   "cell_type": "code",
   "execution_count": 16,
   "metadata": {},
   "outputs": [],
   "source": [
    "# Determine token length\n",
    "MAX_TOKEN_LEN = 256\n",
    "BATCH_SIZE = 64\n",
    "EPOCHS = 2\n"
   ]
  },
  {
   "cell_type": "code",
   "execution_count": 3,
   "metadata": {},
   "outputs": [
    {
     "name": "stderr",
     "output_type": "stream",
     "text": [
      "Some weights of the model checkpoint at bert-base-uncased were not used when initializing BertForMaskedLM: ['cls.seq_relationship.weight', 'cls.seq_relationship.bias']\n",
      "- This IS expected if you are initializing BertForMaskedLM from the checkpoint of a model trained on another task or with another architecture (e.g. initializing a BertForSequenceClassification model from a BertForPreTraining model).\n",
      "- This IS NOT expected if you are initializing BertForMaskedLM from the checkpoint of a model that you expect to be exactly identical (initializing a BertForSequenceClassification model from a BertForSequenceClassification model).\n",
      "Found cached dataset glue (C:/Users/liujj/.cache/huggingface/datasets/glue/mrpc/1.0.0/dacbe3125aa31d7f70367a07a8a9e72a5a0bfeb5fc42e75c9db75b96da6053ad)\n",
      "100%|██████████| 3/3 [00:00<00:00, 750.14it/s]\n"
     ]
    }
   ],
   "source": [
    "# settings\n",
    "device = torch.device('cuda')\n",
    "# load distilbert\n",
    "model_checkpoint = \"bert-base-uncased\" #'distilbert-base-uncased'\n",
    "model = AutoModelForMaskedLM.from_pretrained(model_checkpoint)\n",
    "tokenizer = BertTokenizer.from_pretrained(model_checkpoint)\n",
    "#load dataset\n",
    "dataset = load_dataset('glue', 'mrpc')"
   ]
  },
  {
   "cell_type": "code",
   "execution_count": 4,
   "metadata": {},
   "outputs": [
    {
     "name": "stdout",
     "output_type": "stream",
     "text": [
      "{'sentence1': 'Amrozi accused his brother , whom he called \" the witness \" , of deliberately distorting his evidence .', 'sentence2': 'Referring to him as only \" the witness \" , Amrozi accused his brother of deliberately distorting his evidence .', 'label': 1, 'idx': 0}\n"
     ]
    }
   ],
   "source": [
    "print(dataset['train'][0])"
   ]
  },
  {
   "cell_type": "code",
   "execution_count": 5,
   "metadata": {},
   "outputs": [
    {
     "data": {
      "text/plain": [
       "'[CLS] amrozi accused his brother, whom he called \" the witness \", of deliberately distorting his evidence. [SEP]'"
      ]
     },
     "execution_count": 5,
     "metadata": {},
     "output_type": "execute_result"
    }
   ],
   "source": [
    "tokenizer.decode(tokenizer.encode(dataset['train'][0]['sentence1'], add_special_tokens=True))"
   ]
  },
  {
   "cell_type": "code",
   "execution_count": 29,
   "metadata": {},
   "outputs": [],
   "source": [
    "def bertTokenizeGlue(dataset, tokenizer = tokenizer, max_length = MAX_TOKEN_LEN):\n",
    "\n",
    "    encoded = tokenizer.encode_plus(\n",
    "            dataset['sentence1'], dataset['sentence2'],\n",
    "            add_special_tokens=True, \n",
    "            max_length = max_length, \n",
    "            padding = 'max_length',\n",
    "            return_attention_mask = True,\n",
    "            return_tensors = 'pt'\n",
    "        )\n",
    "        \n",
    "    # convert to pytorch tensors\n",
    "    labels = dataset['label'] \n",
    "    labels = torch.tensor(labels)\n",
    "\n",
    "    return encoded, labels\n",
    "\n",
    "def bertTokenizeGlue_all(dataset, tokenizer = tokenizer, max_length = MAX_TOKEN_LEN):\n",
    "    \n",
    "    encoded = tokenizer(\n",
    "            dataset['sentence1'], dataset['sentence2'],\n",
    "            add_special_tokens=True, \n",
    "            max_length = max_length, \n",
    "            padding = 'max_length',\n",
    "            return_attention_mask = True,\n",
    "            return_tensors = 'pt'\n",
    "        )\n",
    "        \n",
    "    # convert to pytorch tensors\n",
    "    labels = dataset['label'] \n",
    "    labels = torch.tensor(labels)\n",
    "\n",
    "    return encoded, labels\n",
    "\n",
    "    \n",
    "    "
   ]
  },
  {
   "cell_type": "code",
   "execution_count": 7,
   "metadata": {},
   "outputs": [],
   "source": [
    "\n",
    "class BertDataset(Dataset):\n",
    "    def __init__(self, dataset, tokenizer, max_length):\n",
    "        super(BertDataset, self).__init__()\n",
    "        self.dataset = dataset\n",
    "        self.max_length=max_length\n",
    "        self.tokenizer = tokenizer\n",
    "        \n",
    "    def __len__(self):\n",
    "        return self.dataset.num_rows \n",
    "        \n",
    "    def __getitem__(self, index):\n",
    "        text = self.dataset[index]\n",
    "        inputs, labels = bertTokenizeGlue(text, tokenizer=self.tokenizer, max_length=self.max_length)\n",
    "        ids = inputs[\"input_ids\"]\n",
    "        token_type_ids = inputs[\"token_type_ids\"]\n",
    "        mask = inputs[\"attention_mask\"]\n",
    "\n",
    "        return {\n",
    "            'input_ids': ids,\n",
    "            'attention_mask': mask,\n",
    "            'token_type_ids': token_type_ids,\n",
    "            'target': labels\n",
    "            }"
   ]
  },
  {
   "cell_type": "code",
   "execution_count": 8,
   "metadata": {},
   "outputs": [],
   "source": [
    "class BERTgrader(nn.Module):\n",
    "    def __init__(self):\n",
    "        super(BERTgrader, self).__init__()\n",
    "        self.bert = BertModel.from_pretrained(\"bert-base-uncased\") # initialized above\n",
    "        self.dropout = nn.Dropout(p = 0.2)\n",
    "        self.outlayer = nn.Linear(768, 1) # output layer\n",
    "    \n",
    "    def forward(self, ids, mask, token_type_ids):\n",
    "        _ , o2 = self.bert(ids,attention_mask=mask,token_type_ids=token_type_ids, return_dict=False)\n",
    "        o2 = self.dropout(o2)\n",
    "        out= self.outlayer(o2)\n",
    "        return out\n",
    "    \n"
   ]
  },
  {
   "cell_type": "code",
   "execution_count": 14,
   "metadata": {},
   "outputs": [],
   "source": [
    "def finetune(epochs,dataloader,grader_model,loss_fn,optimizer):\n",
    "    grader_model.train()\n",
    "    for epoch in range(epochs):\n",
    "        \n",
    "        loop=tqdm(enumerate(dataloader),leave=False,total=len(dataloader))\n",
    "        for batch, dl in loop:\n",
    "            ids=dl['input_ids'].squeeze()\n",
    "            token_type_ids=dl['token_type_ids'].squeeze()\n",
    "            mask= dl['attention_mask'].squeeze()\n",
    "            label=dl['target']\n",
    "            label = label.unsqueeze(1)\n",
    "            optimizer.zero_grad()\n",
    "            output=grader_model(\n",
    "                ids=ids,\n",
    "                mask=mask,\n",
    "                token_type_ids=token_type_ids)\n",
    "            label = label.type_as(output)\n",
    "\n",
    "            loss=loss_fn(output,label)\n",
    "            loss.backward()\n",
    "            \n",
    "            optimizer.step()\n",
    "            \n",
    "            pred = np.where(output >= 0, 1, 0)\n",
    "\n",
    "            num_correct = sum(1 for a, b in zip(pred, label) if a[0] == b[0])\n",
    "            num_samples = pred.shape[0]\n",
    "            accuracy = num_correct/num_samples\n",
    "            \n",
    "            print(f'Got {num_correct} / {num_samples} with accuracy {float(num_correct)/float(num_samples)*100:.2f}')\n",
    "            \n",
    "            # Show progress while training\n",
    "            loop.set_description(f'Epoch={epoch}/{epochs}')\n",
    "            loop.set_postfix(loss=loss.item(),acc=accuracy)\n",
    "    \n",
    "\n",
    "    return grader_model"
   ]
  },
  {
   "cell_type": "code",
   "execution_count": 38,
   "metadata": {},
   "outputs": [],
   "source": [
    "def scoring(grader_model, test_set, label):\n",
    "    grader_model.eval()\n",
    "    output = grader_model(test_set['input_ids'], mask = test_set['attention_mask'], token_type_ids=test_set['token_type_ids'])\n",
    "    pred = np.where(output >= 0, 1, 0)\n",
    "    num_correct = sum(1 for a, b in zip(pred, label) if a[0] == b[0])\n",
    "    num_samples = pred.shape[0]\n",
    "    accuracy = num_correct/num_samples\n",
    "    # to add f1 here\n",
    "    \n",
    "    print(accuracy)\n",
    "    "
   ]
  },
  {
   "cell_type": "code",
   "execution_count": 17,
   "metadata": {},
   "outputs": [],
   "source": [
    "train_data = BertDataset(dataset['train'], tokenizer, max_length=MAX_TOKEN_LEN)\n",
    "dataloader = DataLoader(dataset=train_data, batch_size=BATCH_SIZE)"
   ]
  },
  {
   "cell_type": "code",
   "execution_count": 30,
   "metadata": {},
   "outputs": [],
   "source": [
    "valid_x, valid_y = bertTokenizeGlue_all(dataset['validation'], tokenizer, max_length=MAX_TOKEN_LEN)\n"
   ]
  },
  {
   "cell_type": "code",
   "execution_count": 18,
   "metadata": {},
   "outputs": [
    {
     "name": "stderr",
     "output_type": "stream",
     "text": [
      "Some weights of the model checkpoint at bert-base-uncased were not used when initializing BertModel: ['cls.predictions.decoder.weight', 'cls.predictions.bias', 'cls.predictions.transform.LayerNorm.weight', 'cls.predictions.transform.dense.weight', 'cls.predictions.transform.dense.bias', 'cls.seq_relationship.weight', 'cls.predictions.transform.LayerNorm.bias', 'cls.seq_relationship.bias']\n",
      "- This IS expected if you are initializing BertModel from the checkpoint of a model trained on another task or with another architecture (e.g. initializing a BertForSequenceClassification model from a BertForPreTraining model).\n",
      "- This IS NOT expected if you are initializing BertModel from the checkpoint of a model that you expect to be exactly identical (initializing a BertForSequenceClassification model from a BertForSequenceClassification model).\n"
     ]
    }
   ],
   "source": [
    "grader_model = BERTgrader()\n",
    "loss = nn.BCEWithLogitsLoss()        \n",
    "optimizer= optim.Adam(model.parameters(),lr= 0.0001)"
   ]
  },
  {
   "cell_type": "code",
   "execution_count": 12,
   "metadata": {},
   "outputs": [],
   "source": [
    "# a['token_type_ids'].squeeze() # one iter\n",
    "# grader_model(a['input_ids'].squeeze(), mask=a['attention_mask'].squeeze(),token_type_ids=a['token_type_ids'].squeeze())"
   ]
  },
  {
   "cell_type": "code",
   "execution_count": 19,
   "metadata": {},
   "outputs": [
    {
     "name": "stderr",
     "output_type": "stream",
     "text": [
      "Epoch=0/2:   2%|▏         | 1/58 [00:50<48:19, 50.86s/it, acc=0.609, loss=0.671]"
     ]
    },
    {
     "name": "stdout",
     "output_type": "stream",
     "text": [
      "Got 39 / 64 with accuracy 60.94\n"
     ]
    },
    {
     "name": "stderr",
     "output_type": "stream",
     "text": [
      "Epoch=0/2:   3%|▎         | 2/58 [01:32<42:15, 45.28s/it, acc=0.688, loss=0.643]"
     ]
    },
    {
     "name": "stdout",
     "output_type": "stream",
     "text": [
      "Got 44 / 64 with accuracy 68.75\n"
     ]
    },
    {
     "name": "stderr",
     "output_type": "stream",
     "text": [
      "Epoch=0/2:   5%|▌         | 3/58 [02:12<39:15, 42.82s/it, acc=0.828, loss=0.592]"
     ]
    },
    {
     "name": "stdout",
     "output_type": "stream",
     "text": [
      "Got 53 / 64 with accuracy 82.81\n"
     ]
    },
    {
     "name": "stderr",
     "output_type": "stream",
     "text": [
      "Epoch=0/2:   7%|▋         | 4/58 [02:52<37:36, 41.79s/it, acc=0.734, loss=0.624]"
     ]
    },
    {
     "name": "stdout",
     "output_type": "stream",
     "text": [
      "Got 47 / 64 with accuracy 73.44\n"
     ]
    },
    {
     "name": "stderr",
     "output_type": "stream",
     "text": [
      "Epoch=0/2:   9%|▊         | 5/58 [03:31<36:06, 40.88s/it, acc=0.672, loss=0.649]"
     ]
    },
    {
     "name": "stdout",
     "output_type": "stream",
     "text": [
      "Got 43 / 64 with accuracy 67.19\n"
     ]
    },
    {
     "name": "stderr",
     "output_type": "stream",
     "text": [
      "Epoch=0/2:  10%|█         | 6/58 [04:13<35:39, 41.15s/it, acc=0.672, loss=0.648]"
     ]
    },
    {
     "name": "stdout",
     "output_type": "stream",
     "text": [
      "Got 43 / 64 with accuracy 67.19\n"
     ]
    },
    {
     "name": "stderr",
     "output_type": "stream",
     "text": [
      "Epoch=0/2:  12%|█▏        | 7/58 [04:54<35:05, 41.28s/it, acc=0.641, loss=0.66] "
     ]
    },
    {
     "name": "stdout",
     "output_type": "stream",
     "text": [
      "Got 41 / 64 with accuracy 64.06\n"
     ]
    },
    {
     "name": "stderr",
     "output_type": "stream",
     "text": [
      "Epoch=0/2:  14%|█▍        | 8/58 [05:40<35:31, 42.64s/it, acc=0.672, loss=0.648]"
     ]
    },
    {
     "name": "stdout",
     "output_type": "stream",
     "text": [
      "Got 43 / 64 with accuracy 67.19\n"
     ]
    },
    {
     "name": "stderr",
     "output_type": "stream",
     "text": [
      "Epoch=0/2:  16%|█▌        | 9/58 [06:25<35:23, 43.35s/it, acc=0.703, loss=0.637]"
     ]
    },
    {
     "name": "stdout",
     "output_type": "stream",
     "text": [
      "Got 45 / 64 with accuracy 70.31\n"
     ]
    },
    {
     "name": "stderr",
     "output_type": "stream",
     "text": [
      "Epoch=0/2:  17%|█▋        | 10/58 [07:07<34:24, 43.02s/it, acc=0.547, loss=0.693]"
     ]
    },
    {
     "name": "stdout",
     "output_type": "stream",
     "text": [
      "Got 35 / 64 with accuracy 54.69\n"
     ]
    },
    {
     "name": "stderr",
     "output_type": "stream",
     "text": [
      "Epoch=0/2:  19%|█▉        | 11/58 [07:53<34:22, 43.87s/it, acc=0.672, loss=0.647]"
     ]
    },
    {
     "name": "stdout",
     "output_type": "stream",
     "text": [
      "Got 43 / 64 with accuracy 67.19\n"
     ]
    },
    {
     "name": "stderr",
     "output_type": "stream",
     "text": [
      "Epoch=0/2:  21%|██        | 12/58 [08:34<33:00, 43.06s/it, acc=0.641, loss=0.66] "
     ]
    },
    {
     "name": "stdout",
     "output_type": "stream",
     "text": [
      "Got 41 / 64 with accuracy 64.06\n"
     ]
    },
    {
     "name": "stderr",
     "output_type": "stream",
     "text": [
      "Epoch=0/2:  22%|██▏       | 13/58 [09:15<31:50, 42.46s/it, acc=0.719, loss=0.631]"
     ]
    },
    {
     "name": "stdout",
     "output_type": "stream",
     "text": [
      "Got 46 / 64 with accuracy 71.88\n"
     ]
    },
    {
     "name": "stderr",
     "output_type": "stream",
     "text": [
      "Epoch=0/2:  24%|██▍       | 14/58 [09:56<30:52, 42.11s/it, acc=0.547, loss=0.693]"
     ]
    },
    {
     "name": "stdout",
     "output_type": "stream",
     "text": [
      "Got 35 / 64 with accuracy 54.69\n"
     ]
    },
    {
     "name": "stderr",
     "output_type": "stream",
     "text": [
      "Epoch=0/2:  26%|██▌       | 15/58 [10:37<29:48, 41.59s/it, acc=0.641, loss=0.658]"
     ]
    },
    {
     "name": "stdout",
     "output_type": "stream",
     "text": [
      "Got 41 / 64 with accuracy 64.06\n"
     ]
    },
    {
     "name": "stderr",
     "output_type": "stream",
     "text": [
      "Epoch=0/2:  28%|██▊       | 16/58 [11:17<28:46, 41.10s/it, acc=0.641, loss=0.659]"
     ]
    },
    {
     "name": "stdout",
     "output_type": "stream",
     "text": [
      "Got 41 / 64 with accuracy 64.06\n"
     ]
    },
    {
     "name": "stderr",
     "output_type": "stream",
     "text": [
      "Epoch=0/2:  29%|██▉       | 17/58 [12:02<28:57, 42.37s/it, acc=0.672, loss=0.648]"
     ]
    },
    {
     "name": "stdout",
     "output_type": "stream",
     "text": [
      "Got 43 / 64 with accuracy 67.19\n"
     ]
    },
    {
     "name": "stderr",
     "output_type": "stream",
     "text": [
      "Epoch=0/2:  31%|███       | 18/58 [12:46<28:26, 42.67s/it, acc=0.641, loss=0.658]"
     ]
    },
    {
     "name": "stdout",
     "output_type": "stream",
     "text": [
      "Got 41 / 64 with accuracy 64.06\n"
     ]
    },
    {
     "name": "stderr",
     "output_type": "stream",
     "text": [
      "Epoch=0/2:  33%|███▎      | 19/58 [13:30<27:59, 43.07s/it, acc=0.75, loss=0.618] "
     ]
    },
    {
     "name": "stdout",
     "output_type": "stream",
     "text": [
      "Got 48 / 64 with accuracy 75.00\n"
     ]
    },
    {
     "name": "stderr",
     "output_type": "stream",
     "text": [
      "Epoch=0/2:  34%|███▍      | 20/58 [14:11<26:54, 42.49s/it, acc=0.672, loss=0.647]"
     ]
    },
    {
     "name": "stdout",
     "output_type": "stream",
     "text": [
      "Got 43 / 64 with accuracy 67.19\n"
     ]
    },
    {
     "name": "stderr",
     "output_type": "stream",
     "text": [
      "Epoch=0/2:  36%|███▌      | 21/58 [14:54<26:18, 42.67s/it, acc=0.578, loss=0.682]"
     ]
    },
    {
     "name": "stdout",
     "output_type": "stream",
     "text": [
      "Got 37 / 64 with accuracy 57.81\n"
     ]
    },
    {
     "name": "stderr",
     "output_type": "stream",
     "text": [
      "Epoch=0/2:  38%|███▊      | 22/58 [15:36<25:27, 42.42s/it, acc=0.625, loss=0.664]"
     ]
    },
    {
     "name": "stdout",
     "output_type": "stream",
     "text": [
      "Got 40 / 64 with accuracy 62.50\n"
     ]
    },
    {
     "name": "stderr",
     "output_type": "stream",
     "text": [
      "Epoch=0/2:  40%|███▉      | 23/58 [16:19<24:55, 42.73s/it, acc=0.625, loss=0.664]"
     ]
    },
    {
     "name": "stdout",
     "output_type": "stream",
     "text": [
      "Got 40 / 64 with accuracy 62.50\n"
     ]
    },
    {
     "name": "stderr",
     "output_type": "stream",
     "text": [
      "Epoch=0/2:  41%|████▏     | 24/58 [17:01<24:06, 42.56s/it, acc=0.641, loss=0.658]"
     ]
    },
    {
     "name": "stdout",
     "output_type": "stream",
     "text": [
      "Got 41 / 64 with accuracy 64.06\n"
     ]
    },
    {
     "name": "stderr",
     "output_type": "stream",
     "text": [
      "Epoch=0/2:  43%|████▎     | 25/58 [17:44<23:24, 42.57s/it, acc=0.719, loss=0.631]"
     ]
    },
    {
     "name": "stdout",
     "output_type": "stream",
     "text": [
      "Got 46 / 64 with accuracy 71.88\n"
     ]
    },
    {
     "name": "stderr",
     "output_type": "stream",
     "text": [
      "Epoch=0/2:  45%|████▍     | 26/58 [18:28<22:56, 43.01s/it, acc=0.656, loss=0.654]"
     ]
    },
    {
     "name": "stdout",
     "output_type": "stream",
     "text": [
      "Got 42 / 64 with accuracy 65.62\n"
     ]
    },
    {
     "name": "stderr",
     "output_type": "stream",
     "text": [
      "Epoch=0/2:  47%|████▋     | 27/58 [19:10<22:04, 42.71s/it, acc=0.656, loss=0.654]"
     ]
    },
    {
     "name": "stdout",
     "output_type": "stream",
     "text": [
      "Got 42 / 64 with accuracy 65.62\n"
     ]
    },
    {
     "name": "stderr",
     "output_type": "stream",
     "text": [
      "Epoch=0/2:  48%|████▊     | 28/58 [19:52<21:16, 42.54s/it, acc=0.656, loss=0.654]"
     ]
    },
    {
     "name": "stdout",
     "output_type": "stream",
     "text": [
      "Got 42 / 64 with accuracy 65.62\n"
     ]
    },
    {
     "name": "stderr",
     "output_type": "stream",
     "text": [
      "Epoch=0/2:  50%|█████     | 29/58 [20:35<20:41, 42.80s/it, acc=0.672, loss=0.649]"
     ]
    },
    {
     "name": "stdout",
     "output_type": "stream",
     "text": [
      "Got 43 / 64 with accuracy 67.19\n"
     ]
    },
    {
     "name": "stderr",
     "output_type": "stream",
     "text": [
      "Epoch=0/2:  52%|█████▏    | 30/58 [21:18<19:52, 42.60s/it, acc=0.641, loss=0.659]"
     ]
    },
    {
     "name": "stdout",
     "output_type": "stream",
     "text": [
      "Got 41 / 64 with accuracy 64.06\n"
     ]
    },
    {
     "name": "stderr",
     "output_type": "stream",
     "text": [
      "Epoch=0/2:  53%|█████▎    | 31/58 [22:00<19:10, 42.63s/it, acc=0.703, loss=0.636]"
     ]
    },
    {
     "name": "stdout",
     "output_type": "stream",
     "text": [
      "Got 45 / 64 with accuracy 70.31\n"
     ]
    },
    {
     "name": "stderr",
     "output_type": "stream",
     "text": [
      "Epoch=0/2:  55%|█████▌    | 32/58 [22:45<18:43, 43.22s/it, acc=0.719, loss=0.63] "
     ]
    },
    {
     "name": "stdout",
     "output_type": "stream",
     "text": [
      "Got 46 / 64 with accuracy 71.88\n"
     ]
    },
    {
     "name": "stderr",
     "output_type": "stream",
     "text": [
      "Epoch=0/2:  57%|█████▋    | 33/58 [23:28<17:59, 43.17s/it, acc=0.703, loss=0.637]"
     ]
    },
    {
     "name": "stdout",
     "output_type": "stream",
     "text": [
      "Got 45 / 64 with accuracy 70.31\n"
     ]
    },
    {
     "name": "stderr",
     "output_type": "stream",
     "text": [
      "Epoch=0/2:  59%|█████▊    | 34/58 [24:09<17:04, 42.70s/it, acc=0.609, loss=0.67] "
     ]
    },
    {
     "name": "stdout",
     "output_type": "stream",
     "text": [
      "Got 39 / 64 with accuracy 60.94\n"
     ]
    },
    {
     "name": "stderr",
     "output_type": "stream",
     "text": [
      "Epoch=0/2:  60%|██████    | 35/58 [24:53<16:30, 43.07s/it, acc=0.562, loss=0.688]"
     ]
    },
    {
     "name": "stdout",
     "output_type": "stream",
     "text": [
      "Got 36 / 64 with accuracy 56.25\n"
     ]
    },
    {
     "name": "stderr",
     "output_type": "stream",
     "text": [
      "Epoch=0/2:  62%|██████▏   | 36/58 [25:36<15:47, 43.06s/it, acc=0.625, loss=0.666]"
     ]
    },
    {
     "name": "stdout",
     "output_type": "stream",
     "text": [
      "Got 40 / 64 with accuracy 62.50\n"
     ]
    },
    {
     "name": "stderr",
     "output_type": "stream",
     "text": [
      "Epoch=0/2:  64%|██████▍   | 37/58 [26:19<15:02, 43.00s/it, acc=0.703, loss=0.638]"
     ]
    },
    {
     "name": "stdout",
     "output_type": "stream",
     "text": [
      "Got 45 / 64 with accuracy 70.31\n"
     ]
    },
    {
     "name": "stderr",
     "output_type": "stream",
     "text": [
      "Epoch=0/2:  66%|██████▌   | 38/58 [27:02<14:17, 42.87s/it, acc=0.578, loss=0.682]"
     ]
    },
    {
     "name": "stdout",
     "output_type": "stream",
     "text": [
      "Got 37 / 64 with accuracy 57.81\n"
     ]
    },
    {
     "name": "stderr",
     "output_type": "stream",
     "text": [
      "Epoch=0/2:  67%|██████▋   | 39/58 [27:45<13:35, 42.94s/it, acc=0.641, loss=0.66] "
     ]
    },
    {
     "name": "stdout",
     "output_type": "stream",
     "text": [
      "Got 41 / 64 with accuracy 64.06\n"
     ]
    },
    {
     "name": "stderr",
     "output_type": "stream",
     "text": [
      "Epoch=0/2:  69%|██████▉   | 40/58 [28:28<12:53, 42.96s/it, acc=0.734, loss=0.626]"
     ]
    },
    {
     "name": "stdout",
     "output_type": "stream",
     "text": [
      "Got 47 / 64 with accuracy 73.44\n"
     ]
    },
    {
     "name": "stderr",
     "output_type": "stream",
     "text": [
      "Epoch=0/2:  71%|███████   | 41/58 [29:12<12:13, 43.17s/it, acc=0.781, loss=0.608]"
     ]
    },
    {
     "name": "stdout",
     "output_type": "stream",
     "text": [
      "Got 50 / 64 with accuracy 78.12\n"
     ]
    },
    {
     "name": "stderr",
     "output_type": "stream",
     "text": [
      "Epoch=0/2:  72%|███████▏  | 42/58 [29:57<11:41, 43.84s/it, acc=0.766, loss=0.615]"
     ]
    },
    {
     "name": "stdout",
     "output_type": "stream",
     "text": [
      "Got 49 / 64 with accuracy 76.56\n"
     ]
    },
    {
     "name": "stderr",
     "output_type": "stream",
     "text": [
      "Epoch=0/2:  74%|███████▍  | 43/58 [30:41<10:56, 43.78s/it, acc=0.75, loss=0.62]  "
     ]
    },
    {
     "name": "stdout",
     "output_type": "stream",
     "text": [
      "Got 48 / 64 with accuracy 75.00\n"
     ]
    },
    {
     "name": "stderr",
     "output_type": "stream",
     "text": [
      "Epoch=0/2:  76%|███████▌  | 44/58 [31:25<10:13, 43.84s/it, acc=0.703, loss=0.637]"
     ]
    },
    {
     "name": "stdout",
     "output_type": "stream",
     "text": [
      "Got 45 / 64 with accuracy 70.31\n"
     ]
    },
    {
     "name": "stderr",
     "output_type": "stream",
     "text": [
      "Epoch=0/2:  78%|███████▊  | 45/58 [32:08<09:29, 43.82s/it, acc=0.719, loss=0.632]"
     ]
    },
    {
     "name": "stdout",
     "output_type": "stream",
     "text": [
      "Got 46 / 64 with accuracy 71.88\n"
     ]
    },
    {
     "name": "stderr",
     "output_type": "stream",
     "text": [
      "Epoch=0/2:  79%|███████▉  | 46/58 [32:52<08:46, 43.86s/it, acc=0.656, loss=0.654]"
     ]
    },
    {
     "name": "stdout",
     "output_type": "stream",
     "text": [
      "Got 42 / 64 with accuracy 65.62\n"
     ]
    },
    {
     "name": "stderr",
     "output_type": "stream",
     "text": [
      "Epoch=0/2:  81%|████████  | 47/58 [33:35<07:57, 43.42s/it, acc=0.672, loss=0.647]"
     ]
    },
    {
     "name": "stdout",
     "output_type": "stream",
     "text": [
      "Got 43 / 64 with accuracy 67.19\n"
     ]
    },
    {
     "name": "stderr",
     "output_type": "stream",
     "text": [
      "Epoch=0/2:  83%|████████▎ | 48/58 [34:21<07:22, 44.24s/it, acc=0.734, loss=0.625]"
     ]
    },
    {
     "name": "stdout",
     "output_type": "stream",
     "text": [
      "Got 47 / 64 with accuracy 73.44\n"
     ]
    },
    {
     "name": "stderr",
     "output_type": "stream",
     "text": [
      "Epoch=0/2:  84%|████████▍ | 49/58 [35:03<06:32, 43.66s/it, acc=0.703, loss=0.636]"
     ]
    },
    {
     "name": "stdout",
     "output_type": "stream",
     "text": [
      "Got 45 / 64 with accuracy 70.31\n"
     ]
    },
    {
     "name": "stderr",
     "output_type": "stream",
     "text": [
      "Epoch=0/2:  86%|████████▌ | 50/58 [35:45<05:45, 43.13s/it, acc=0.734, loss=0.626]"
     ]
    },
    {
     "name": "stdout",
     "output_type": "stream",
     "text": [
      "Got 47 / 64 with accuracy 73.44\n"
     ]
    },
    {
     "name": "stderr",
     "output_type": "stream",
     "text": [
      "Epoch=0/2:  88%|████████▊ | 51/58 [36:26<04:58, 42.60s/it, acc=0.656, loss=0.653]"
     ]
    },
    {
     "name": "stdout",
     "output_type": "stream",
     "text": [
      "Got 42 / 64 with accuracy 65.62\n"
     ]
    },
    {
     "name": "stderr",
     "output_type": "stream",
     "text": [
      "Epoch=0/2:  90%|████████▉ | 52/58 [37:08<04:13, 42.28s/it, acc=0.734, loss=0.626]"
     ]
    },
    {
     "name": "stdout",
     "output_type": "stream",
     "text": [
      "Got 47 / 64 with accuracy 73.44\n"
     ]
    },
    {
     "name": "stderr",
     "output_type": "stream",
     "text": [
      "Epoch=0/2:  91%|█████████▏| 53/58 [37:51<03:32, 42.53s/it, acc=0.672, loss=0.65] "
     ]
    },
    {
     "name": "stdout",
     "output_type": "stream",
     "text": [
      "Got 43 / 64 with accuracy 67.19\n"
     ]
    },
    {
     "name": "stderr",
     "output_type": "stream",
     "text": [
      "Epoch=0/2:  93%|█████████▎| 54/58 [38:34<02:50, 42.53s/it, acc=0.719, loss=0.631]"
     ]
    },
    {
     "name": "stdout",
     "output_type": "stream",
     "text": [
      "Got 46 / 64 with accuracy 71.88\n"
     ]
    },
    {
     "name": "stderr",
     "output_type": "stream",
     "text": [
      "Epoch=0/2:  95%|█████████▍| 55/58 [39:16<02:07, 42.34s/it, acc=0.688, loss=0.642]"
     ]
    },
    {
     "name": "stdout",
     "output_type": "stream",
     "text": [
      "Got 44 / 64 with accuracy 68.75\n"
     ]
    },
    {
     "name": "stderr",
     "output_type": "stream",
     "text": [
      "Epoch=0/2:  97%|█████████▋| 56/58 [39:59<01:25, 42.71s/it, acc=0.609, loss=0.671]"
     ]
    },
    {
     "name": "stdout",
     "output_type": "stream",
     "text": [
      "Got 39 / 64 with accuracy 60.94\n"
     ]
    },
    {
     "name": "stderr",
     "output_type": "stream",
     "text": [
      "Epoch=0/2:  98%|█████████▊| 57/58 [40:41<00:42, 42.51s/it, acc=0.719, loss=0.631]"
     ]
    },
    {
     "name": "stdout",
     "output_type": "stream",
     "text": [
      "Got 46 / 64 with accuracy 71.88\n"
     ]
    },
    {
     "name": "stderr",
     "output_type": "stream",
     "text": [
      "                                                                                 \r"
     ]
    },
    {
     "name": "stdout",
     "output_type": "stream",
     "text": [
      "Got 15 / 20 with accuracy 75.00\n"
     ]
    },
    {
     "name": "stderr",
     "output_type": "stream",
     "text": [
      "Epoch=1/2:   2%|▏         | 1/58 [00:42<40:05, 42.21s/it, acc=0.609, loss=0.67]"
     ]
    },
    {
     "name": "stdout",
     "output_type": "stream",
     "text": [
      "Got 39 / 64 with accuracy 60.94\n"
     ]
    },
    {
     "name": "stderr",
     "output_type": "stream",
     "text": [
      "Epoch=1/2:   3%|▎         | 2/58 [01:25<40:07, 42.99s/it, acc=0.688, loss=0.643]"
     ]
    },
    {
     "name": "stdout",
     "output_type": "stream",
     "text": [
      "Got 44 / 64 with accuracy 68.75\n"
     ]
    },
    {
     "name": "stderr",
     "output_type": "stream",
     "text": [
      "Epoch=1/2:   5%|▌         | 3/58 [02:08<39:07, 42.68s/it, acc=0.828, loss=0.592]"
     ]
    },
    {
     "name": "stdout",
     "output_type": "stream",
     "text": [
      "Got 53 / 64 with accuracy 82.81\n"
     ]
    },
    {
     "name": "stderr",
     "output_type": "stream",
     "text": [
      "Epoch=1/2:   7%|▋         | 4/58 [02:50<38:15, 42.51s/it, acc=0.734, loss=0.624]"
     ]
    },
    {
     "name": "stdout",
     "output_type": "stream",
     "text": [
      "Got 47 / 64 with accuracy 73.44\n"
     ]
    },
    {
     "name": "stderr",
     "output_type": "stream",
     "text": [
      "Epoch=1/2:   9%|▊         | 5/58 [03:33<37:49, 42.83s/it, acc=0.672, loss=0.648]"
     ]
    },
    {
     "name": "stdout",
     "output_type": "stream",
     "text": [
      "Got 43 / 64 with accuracy 67.19\n"
     ]
    },
    {
     "name": "stderr",
     "output_type": "stream",
     "text": [
      "Epoch=1/2:  10%|█         | 6/58 [04:16<37:01, 42.72s/it, acc=0.672, loss=0.648]"
     ]
    },
    {
     "name": "stdout",
     "output_type": "stream",
     "text": [
      "Got 43 / 64 with accuracy 67.19\n"
     ]
    },
    {
     "name": "stderr",
     "output_type": "stream",
     "text": [
      "Epoch=1/2:  12%|█▏        | 7/58 [04:59<36:22, 42.79s/it, acc=0.641, loss=0.659]"
     ]
    },
    {
     "name": "stdout",
     "output_type": "stream",
     "text": [
      "Got 41 / 64 with accuracy 64.06\n"
     ]
    },
    {
     "name": "stderr",
     "output_type": "stream",
     "text": [
      "Epoch=1/2:  14%|█▍        | 8/58 [05:39<35:08, 42.16s/it, acc=0.672, loss=0.648]"
     ]
    },
    {
     "name": "stdout",
     "output_type": "stream",
     "text": [
      "Got 43 / 64 with accuracy 67.19\n"
     ]
    },
    {
     "name": "stderr",
     "output_type": "stream",
     "text": [
      "Epoch=1/2:  16%|█▌        | 9/58 [06:22<34:33, 42.31s/it, acc=0.703, loss=0.636]"
     ]
    },
    {
     "name": "stdout",
     "output_type": "stream",
     "text": [
      "Got 45 / 64 with accuracy 70.31\n"
     ]
    },
    {
     "name": "stderr",
     "output_type": "stream",
     "text": [
      "Epoch=1/2:  17%|█▋        | 10/58 [07:11<35:35, 44.48s/it, acc=0.547, loss=0.692]"
     ]
    },
    {
     "name": "stdout",
     "output_type": "stream",
     "text": [
      "Got 35 / 64 with accuracy 54.69\n"
     ]
    },
    {
     "name": "stderr",
     "output_type": "stream",
     "text": [
      "Epoch=1/2:  19%|█▉        | 11/58 [07:54<34:15, 43.74s/it, acc=0.672, loss=0.647]"
     ]
    },
    {
     "name": "stdout",
     "output_type": "stream",
     "text": [
      "Got 43 / 64 with accuracy 67.19\n"
     ]
    },
    {
     "name": "stderr",
     "output_type": "stream",
     "text": [
      "Epoch=1/2:  21%|██        | 12/58 [08:36<33:17, 43.42s/it, acc=0.641, loss=0.66] "
     ]
    },
    {
     "name": "stdout",
     "output_type": "stream",
     "text": [
      "Got 41 / 64 with accuracy 64.06\n"
     ]
    },
    {
     "name": "stderr",
     "output_type": "stream",
     "text": [
      "Epoch=1/2:  22%|██▏       | 13/58 [09:21<32:49, 43.76s/it, acc=0.719, loss=0.631]"
     ]
    },
    {
     "name": "stdout",
     "output_type": "stream",
     "text": [
      "Got 46 / 64 with accuracy 71.88\n"
     ]
    },
    {
     "name": "stderr",
     "output_type": "stream",
     "text": [
      "Epoch=1/2:  24%|██▍       | 14/58 [10:03<31:43, 43.25s/it, acc=0.547, loss=0.692]"
     ]
    },
    {
     "name": "stdout",
     "output_type": "stream",
     "text": [
      "Got 35 / 64 with accuracy 54.69\n"
     ]
    },
    {
     "name": "stderr",
     "output_type": "stream",
     "text": [
      "Epoch=1/2:  26%|██▌       | 15/58 [10:46<30:54, 43.12s/it, acc=0.641, loss=0.659]"
     ]
    },
    {
     "name": "stdout",
     "output_type": "stream",
     "text": [
      "Got 41 / 64 with accuracy 64.06\n"
     ]
    },
    {
     "name": "stderr",
     "output_type": "stream",
     "text": [
      "Epoch=1/2:  28%|██▊       | 16/58 [11:29<30:14, 43.20s/it, acc=0.641, loss=0.659]"
     ]
    },
    {
     "name": "stdout",
     "output_type": "stream",
     "text": [
      "Got 41 / 64 with accuracy 64.06\n"
     ]
    },
    {
     "name": "stderr",
     "output_type": "stream",
     "text": [
      "Epoch=1/2:  29%|██▉       | 17/58 [12:13<29:41, 43.44s/it, acc=0.672, loss=0.648]"
     ]
    },
    {
     "name": "stdout",
     "output_type": "stream",
     "text": [
      "Got 43 / 64 with accuracy 67.19\n"
     ]
    },
    {
     "name": "stderr",
     "output_type": "stream",
     "text": [
      "Epoch=1/2:  31%|███       | 18/58 [12:56<28:47, 43.19s/it, acc=0.641, loss=0.659]"
     ]
    },
    {
     "name": "stdout",
     "output_type": "stream",
     "text": [
      "Got 41 / 64 with accuracy 64.06\n"
     ]
    },
    {
     "name": "stderr",
     "output_type": "stream",
     "text": [
      "Epoch=1/2:  33%|███▎      | 19/58 [13:40<28:14, 43.44s/it, acc=0.75, loss=0.619] "
     ]
    },
    {
     "name": "stdout",
     "output_type": "stream",
     "text": [
      "Got 48 / 64 with accuracy 75.00\n"
     ]
    },
    {
     "name": "stderr",
     "output_type": "stream",
     "text": [
      "Epoch=1/2:  34%|███▍      | 20/58 [14:24<27:46, 43.85s/it, acc=0.672, loss=0.646]"
     ]
    },
    {
     "name": "stdout",
     "output_type": "stream",
     "text": [
      "Got 43 / 64 with accuracy 67.19\n"
     ]
    },
    {
     "name": "stderr",
     "output_type": "stream",
     "text": [
      "Epoch=1/2:  36%|███▌      | 21/58 [15:06<26:41, 43.28s/it, acc=0.578, loss=0.682]"
     ]
    },
    {
     "name": "stdout",
     "output_type": "stream",
     "text": [
      "Got 37 / 64 with accuracy 57.81\n"
     ]
    },
    {
     "name": "stderr",
     "output_type": "stream",
     "text": [
      "Epoch=1/2:  38%|███▊      | 22/58 [15:48<25:41, 42.83s/it, acc=0.625, loss=0.665]"
     ]
    },
    {
     "name": "stdout",
     "output_type": "stream",
     "text": [
      "Got 40 / 64 with accuracy 62.50\n"
     ]
    },
    {
     "name": "stderr",
     "output_type": "stream",
     "text": [
      "Epoch=1/2:  40%|███▉      | 23/58 [16:31<24:55, 42.72s/it, acc=0.625, loss=0.664]"
     ]
    },
    {
     "name": "stdout",
     "output_type": "stream",
     "text": [
      "Got 40 / 64 with accuracy 62.50\n"
     ]
    },
    {
     "name": "stderr",
     "output_type": "stream",
     "text": [
      "Epoch=1/2:  41%|████▏     | 24/58 [17:15<24:28, 43.19s/it, acc=0.641, loss=0.659]"
     ]
    },
    {
     "name": "stdout",
     "output_type": "stream",
     "text": [
      "Got 41 / 64 with accuracy 64.06\n"
     ]
    },
    {
     "name": "stderr",
     "output_type": "stream",
     "text": [
      "Epoch=1/2:  43%|████▎     | 25/58 [17:58<23:47, 43.25s/it, acc=0.719, loss=0.63] "
     ]
    },
    {
     "name": "stdout",
     "output_type": "stream",
     "text": [
      "Got 46 / 64 with accuracy 71.88\n"
     ]
    },
    {
     "name": "stderr",
     "output_type": "stream",
     "text": [
      "Epoch=1/2:  45%|████▍     | 26/58 [18:39<22:41, 42.56s/it, acc=0.656, loss=0.654]"
     ]
    },
    {
     "name": "stdout",
     "output_type": "stream",
     "text": [
      "Got 42 / 64 with accuracy 65.62\n"
     ]
    },
    {
     "name": "stderr",
     "output_type": "stream",
     "text": [
      "Epoch=1/2:  47%|████▋     | 27/58 [19:22<21:59, 42.55s/it, acc=0.656, loss=0.654]"
     ]
    },
    {
     "name": "stdout",
     "output_type": "stream",
     "text": [
      "Got 42 / 64 with accuracy 65.62\n"
     ]
    },
    {
     "name": "stderr",
     "output_type": "stream",
     "text": [
      "Epoch=1/2:  48%|████▊     | 28/58 [20:03<21:06, 42.20s/it, acc=0.656, loss=0.653]"
     ]
    },
    {
     "name": "stdout",
     "output_type": "stream",
     "text": [
      "Got 42 / 64 with accuracy 65.62\n"
     ]
    },
    {
     "name": "stderr",
     "output_type": "stream",
     "text": [
      "Epoch=1/2:  50%|█████     | 29/58 [20:44<20:12, 41.79s/it, acc=0.672, loss=0.65] "
     ]
    },
    {
     "name": "stdout",
     "output_type": "stream",
     "text": [
      "Got 43 / 64 with accuracy 67.19\n"
     ]
    },
    {
     "name": "stderr",
     "output_type": "stream",
     "text": [
      "Epoch=1/2:  52%|█████▏    | 30/58 [21:27<19:42, 42.23s/it, acc=0.641, loss=0.659]"
     ]
    },
    {
     "name": "stdout",
     "output_type": "stream",
     "text": [
      "Got 41 / 64 with accuracy 64.06\n"
     ]
    },
    {
     "name": "stderr",
     "output_type": "stream",
     "text": [
      "Epoch=1/2:  53%|█████▎    | 31/58 [22:08<18:46, 41.74s/it, acc=0.703, loss=0.636]"
     ]
    },
    {
     "name": "stdout",
     "output_type": "stream",
     "text": [
      "Got 45 / 64 with accuracy 70.31\n"
     ]
    },
    {
     "name": "stderr",
     "output_type": "stream",
     "text": [
      "Epoch=1/2:  55%|█████▌    | 32/58 [22:50<18:11, 41.97s/it, acc=0.719, loss=0.631]"
     ]
    },
    {
     "name": "stdout",
     "output_type": "stream",
     "text": [
      "Got 46 / 64 with accuracy 71.88\n"
     ]
    },
    {
     "name": "stderr",
     "output_type": "stream",
     "text": [
      "Epoch=1/2:  57%|█████▋    | 33/58 [23:30<17:14, 41.40s/it, acc=0.703, loss=0.637]"
     ]
    },
    {
     "name": "stdout",
     "output_type": "stream",
     "text": [
      "Got 45 / 64 with accuracy 70.31\n"
     ]
    },
    {
     "name": "stderr",
     "output_type": "stream",
     "text": [
      "Epoch=1/2:  59%|█████▊    | 34/58 [24:12<16:34, 41.45s/it, acc=0.609, loss=0.671]"
     ]
    },
    {
     "name": "stdout",
     "output_type": "stream",
     "text": [
      "Got 39 / 64 with accuracy 60.94\n"
     ]
    },
    {
     "name": "stderr",
     "output_type": "stream",
     "text": [
      "Epoch=1/2:  60%|██████    | 35/58 [24:53<15:50, 41.31s/it, acc=0.562, loss=0.688]"
     ]
    },
    {
     "name": "stdout",
     "output_type": "stream",
     "text": [
      "Got 36 / 64 with accuracy 56.25\n"
     ]
    },
    {
     "name": "stderr",
     "output_type": "stream",
     "text": [
      "Epoch=1/2:  62%|██████▏   | 36/58 [25:36<15:22, 41.95s/it, acc=0.625, loss=0.666]"
     ]
    },
    {
     "name": "stdout",
     "output_type": "stream",
     "text": [
      "Got 40 / 64 with accuracy 62.50\n"
     ]
    },
    {
     "name": "stderr",
     "output_type": "stream",
     "text": [
      "Epoch=1/2:  64%|██████▍   | 37/58 [26:18<14:41, 41.95s/it, acc=0.703, loss=0.638]"
     ]
    },
    {
     "name": "stdout",
     "output_type": "stream",
     "text": [
      "Got 45 / 64 with accuracy 70.31\n"
     ]
    },
    {
     "name": "stderr",
     "output_type": "stream",
     "text": [
      "Epoch=1/2:  66%|██████▌   | 38/58 [27:00<13:58, 41.91s/it, acc=0.578, loss=0.682]"
     ]
    },
    {
     "name": "stdout",
     "output_type": "stream",
     "text": [
      "Got 37 / 64 with accuracy 57.81\n"
     ]
    },
    {
     "name": "stderr",
     "output_type": "stream",
     "text": [
      "Epoch=1/2:  67%|██████▋   | 39/58 [27:42<13:16, 41.92s/it, acc=0.641, loss=0.66] "
     ]
    },
    {
     "name": "stdout",
     "output_type": "stream",
     "text": [
      "Got 41 / 64 with accuracy 64.06\n"
     ]
    },
    {
     "name": "stderr",
     "output_type": "stream",
     "text": [
      "Epoch=1/2:  69%|██████▉   | 40/58 [28:25<12:40, 42.24s/it, acc=0.734, loss=0.626]"
     ]
    },
    {
     "name": "stdout",
     "output_type": "stream",
     "text": [
      "Got 47 / 64 with accuracy 73.44\n"
     ]
    },
    {
     "name": "stderr",
     "output_type": "stream",
     "text": [
      "Epoch=1/2:  71%|███████   | 41/58 [29:07<11:57, 42.19s/it, acc=0.781, loss=0.608]"
     ]
    },
    {
     "name": "stdout",
     "output_type": "stream",
     "text": [
      "Got 50 / 64 with accuracy 78.12\n"
     ]
    },
    {
     "name": "stderr",
     "output_type": "stream",
     "text": [
      "Epoch=1/2:  72%|███████▏  | 42/58 [29:49<11:11, 41.95s/it, acc=0.766, loss=0.615]"
     ]
    },
    {
     "name": "stdout",
     "output_type": "stream",
     "text": [
      "Got 49 / 64 with accuracy 76.56\n"
     ]
    },
    {
     "name": "stderr",
     "output_type": "stream",
     "text": [
      "Epoch=1/2:  74%|███████▍  | 43/58 [30:33<10:42, 42.82s/it, acc=0.75, loss=0.619] "
     ]
    },
    {
     "name": "stdout",
     "output_type": "stream",
     "text": [
      "Got 48 / 64 with accuracy 75.00\n"
     ]
    },
    {
     "name": "stderr",
     "output_type": "stream",
     "text": [
      "Epoch=1/2:  76%|███████▌  | 44/58 [31:16<09:57, 42.70s/it, acc=0.703, loss=0.637]"
     ]
    },
    {
     "name": "stdout",
     "output_type": "stream",
     "text": [
      "Got 45 / 64 with accuracy 70.31\n"
     ]
    },
    {
     "name": "stderr",
     "output_type": "stream",
     "text": [
      "Epoch=1/2:  78%|███████▊  | 45/58 [31:58<09:13, 42.58s/it, acc=0.719, loss=0.631]"
     ]
    },
    {
     "name": "stdout",
     "output_type": "stream",
     "text": [
      "Got 46 / 64 with accuracy 71.88\n"
     ]
    },
    {
     "name": "stderr",
     "output_type": "stream",
     "text": [
      "Epoch=1/2:  79%|███████▉  | 46/58 [32:39<08:23, 41.99s/it, acc=0.656, loss=0.654]"
     ]
    },
    {
     "name": "stdout",
     "output_type": "stream",
     "text": [
      "Got 42 / 64 with accuracy 65.62\n"
     ]
    },
    {
     "name": "stderr",
     "output_type": "stream",
     "text": [
      "Epoch=1/2:  81%|████████  | 47/58 [33:22<07:46, 42.43s/it, acc=0.672, loss=0.647]"
     ]
    },
    {
     "name": "stdout",
     "output_type": "stream",
     "text": [
      "Got 43 / 64 with accuracy 67.19\n"
     ]
    },
    {
     "name": "stderr",
     "output_type": "stream",
     "text": [
      "Epoch=1/2:  83%|████████▎ | 48/58 [34:04<07:01, 42.15s/it, acc=0.734, loss=0.626]"
     ]
    },
    {
     "name": "stdout",
     "output_type": "stream",
     "text": [
      "Got 47 / 64 with accuracy 73.44\n"
     ]
    },
    {
     "name": "stderr",
     "output_type": "stream",
     "text": [
      "Epoch=1/2:  84%|████████▍ | 49/58 [34:45<06:16, 41.81s/it, acc=0.703, loss=0.636]"
     ]
    },
    {
     "name": "stdout",
     "output_type": "stream",
     "text": [
      "Got 45 / 64 with accuracy 70.31\n"
     ]
    },
    {
     "name": "stderr",
     "output_type": "stream",
     "text": [
      "Epoch=1/2:  86%|████████▌ | 50/58 [35:29<05:39, 42.45s/it, acc=0.734, loss=0.626]"
     ]
    },
    {
     "name": "stdout",
     "output_type": "stream",
     "text": [
      "Got 47 / 64 with accuracy 73.44\n"
     ]
    },
    {
     "name": "stderr",
     "output_type": "stream",
     "text": [
      "Epoch=1/2:  88%|████████▊ | 51/58 [36:11<04:56, 42.29s/it, acc=0.656, loss=0.653]"
     ]
    },
    {
     "name": "stdout",
     "output_type": "stream",
     "text": [
      "Got 42 / 64 with accuracy 65.62\n"
     ]
    },
    {
     "name": "stderr",
     "output_type": "stream",
     "text": [
      "Epoch=1/2:  90%|████████▉ | 52/58 [36:52<04:12, 42.11s/it, acc=0.734, loss=0.626]"
     ]
    },
    {
     "name": "stdout",
     "output_type": "stream",
     "text": [
      "Got 47 / 64 with accuracy 73.44\n"
     ]
    },
    {
     "name": "stderr",
     "output_type": "stream",
     "text": [
      "Epoch=1/2:  91%|█████████▏| 53/58 [37:33<03:29, 41.83s/it, acc=0.672, loss=0.649]"
     ]
    },
    {
     "name": "stdout",
     "output_type": "stream",
     "text": [
      "Got 43 / 64 with accuracy 67.19\n"
     ]
    },
    {
     "name": "stderr",
     "output_type": "stream",
     "text": [
      "Epoch=1/2:  93%|█████████▎| 54/58 [38:14<02:45, 41.43s/it, acc=0.719, loss=0.633]"
     ]
    },
    {
     "name": "stdout",
     "output_type": "stream",
     "text": [
      "Got 46 / 64 with accuracy 71.88\n"
     ]
    },
    {
     "name": "stderr",
     "output_type": "stream",
     "text": [
      "Epoch=1/2:  95%|█████████▍| 55/58 [39:05<02:12, 44.22s/it, acc=0.688, loss=0.642]"
     ]
    },
    {
     "name": "stdout",
     "output_type": "stream",
     "text": [
      "Got 44 / 64 with accuracy 68.75\n"
     ]
    },
    {
     "name": "stderr",
     "output_type": "stream",
     "text": [
      "Epoch=1/2:  97%|█████████▋| 56/58 [39:46<01:26, 43.39s/it, acc=0.609, loss=0.671]"
     ]
    },
    {
     "name": "stdout",
     "output_type": "stream",
     "text": [
      "Got 39 / 64 with accuracy 60.94\n"
     ]
    },
    {
     "name": "stderr",
     "output_type": "stream",
     "text": [
      "Epoch=1/2:  98%|█████████▊| 57/58 [40:27<00:42, 42.57s/it, acc=0.719, loss=0.631]"
     ]
    },
    {
     "name": "stdout",
     "output_type": "stream",
     "text": [
      "Got 46 / 64 with accuracy 71.88\n"
     ]
    },
    {
     "name": "stderr",
     "output_type": "stream",
     "text": [
      "                                                                                 "
     ]
    },
    {
     "name": "stdout",
     "output_type": "stream",
     "text": [
      "Got 15 / 20 with accuracy 75.00\n"
     ]
    },
    {
     "name": "stderr",
     "output_type": "stream",
     "text": [
      "\r"
     ]
    }
   ],
   "source": [
    "grader_model=finetune(EPOCHS, dataloader, grader_model, loss, optimizer)"
   ]
  },
  {
   "cell_type": "code",
   "execution_count": 41,
   "metadata": {},
   "outputs": [],
   "source": [
    "# scoring(grader_model, valid_x, valid_y)"
   ]
  },
  {
   "cell_type": "code",
   "execution_count": null,
   "metadata": {},
   "outputs": [],
   "source": []
  }
 ],
 "metadata": {
  "kernelspec": {
   "display_name": "llm_env",
   "language": "python",
   "name": "python3"
  },
  "language_info": {
   "codemirror_mode": {
    "name": "ipython",
    "version": 3
   },
   "file_extension": ".py",
   "mimetype": "text/x-python",
   "name": "python",
   "nbconvert_exporter": "python",
   "pygments_lexer": "ipython3",
   "version": "3.11.3"
  },
  "orig_nbformat": 4
 },
 "nbformat": 4,
 "nbformat_minor": 2
}
